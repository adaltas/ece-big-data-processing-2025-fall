{
  "cells": [
    {
      "cell_type": "markdown",
      "source": [
        "# Prerequisites"
      ],
      "metadata": {
        "id": "0WPylkxI7S73"
      }
    },
    {
      "cell_type": "code",
      "execution_count": null,
      "metadata": {
        "id": "TAnIgoXgv3FI"
      },
      "outputs": [],
      "source": [
        "# get data for labs\n",
        "!wget -nc -O around_the_world_in_80_days.txt https://www.gutenberg.org/ebooks/103.txt.utf-8"
      ]
    },
    {
      "cell_type": "markdown",
      "source": [
        "# 1. Word Count"
      ],
      "metadata": {
        "id": "NyrzgODB7h-I"
      }
    },
    {
      "cell_type": "markdown",
      "source": [
        "Instructions:  \n",
        "For each cell marked \"double-click and add explanation here\" please answer the question in your own words.  \n",
        "In the section where you complete the code to perform basic nlp text cleaning and exploration tasks, the goal is to chain all of the transformations together in a single function. For learning and exploration purposes, it is acceptable to have each step seperate, but the last cell in this section should be one function with all transformations chained together.  \n",
        "For steps c and f, it is acceptable to use your favorite chatbot to generate a list of common stop words (c) and punctuation (e) for use in the code. As these are common steps in nlp/text processing tasks, there are pleanty of libraries to help with this such as nltk, but there is no need to import extra dependencies for this lab unless you are already familiar with working with them."
      ],
      "metadata": {
        "id": "ubaJBAcmHN7w"
      }
    },
    {
      "cell_type": "code",
      "execution_count": null,
      "metadata": {
        "id": "sT9v8V8z3xRh"
      },
      "outputs": [],
      "source": [
        "# start a spark session and create spark context for making rdd\n",
        "from pyspark.sql import SparkSession\n",
        "spark = SparkSession.builder \\\n",
        "    .appName(\"word_count\") \\\n",
        "    .getOrCreate()\n",
        "\n",
        "sc = spark.sparkContext"
      ]
    },
    {
      "cell_type": "code",
      "source": [
        "# Defind the rdd\n",
        "rdd = sc.textFile('/content/around_the_world_in_80_days.txt')\n",
        "rdd_2 = sc.textFile('/content/le_tour_du_monde_en_quatre_vingts_jours.txt')"
      ],
      "metadata": {
        "id": "WQuzr4jFgwA8"
      },
      "execution_count": null,
      "outputs": []
    },
    {
      "cell_type": "code",
      "source": [
        "# view the first x lines of the rdd\n",
        "rdd.take(20)"
      ],
      "metadata": {
        "id": "eDOA5KkhhEpe"
      },
      "execution_count": null,
      "outputs": []
    },
    {
      "cell_type": "code",
      "source": [
        "# example lambda function\n",
        "words = rdd.flatMap(lambda lines: lines.split(' '))"
      ],
      "metadata": {
        "id": "-Ygmzp9YhIuc"
      },
      "execution_count": null,
      "outputs": []
    },
    {
      "cell_type": "code",
      "source": [
        "# Note and explain the output of the below command\n",
        "words"
      ],
      "metadata": {
        "id": "cx0OTFbfhTmg"
      },
      "execution_count": null,
      "outputs": []
    },
    {
      "cell_type": "markdown",
      "source": [
        "double-click and add explanation here"
      ],
      "metadata": {
        "id": "-ebu8bJo8yTa"
      }
    },
    {
      "cell_type": "markdown",
      "source": [
        "<ADD EXPLANATION HERE>"
      ],
      "metadata": {
        "id": "xSFM2oMV8a4l"
      }
    },
    {
      "cell_type": "code",
      "source": [
        "# Note and explain the output of the following command, focusing on the difference with the\n",
        "# above command\n",
        "words.collect()"
      ],
      "metadata": {
        "id": "mZ0xArEv8u_0"
      },
      "execution_count": null,
      "outputs": []
    },
    {
      "cell_type": "markdown",
      "source": [
        "double-click and add explanation here"
      ],
      "metadata": {
        "id": "b8xJlKEB9aDY"
      }
    },
    {
      "cell_type": "code",
      "source": [
        "# nicer print\n",
        "for w in words.collect():\n",
        "    print(w)"
      ],
      "metadata": {
        "id": "eD96cn2NhUaZ"
      },
      "execution_count": null,
      "outputs": []
    },
    {
      "cell_type": "code",
      "source": [
        "# Print first x words\n",
        "words.take(20)"
      ],
      "metadata": {
        "id": "2tQ4EUF7hyDx"
      },
      "execution_count": null,
      "outputs": []
    },
    {
      "cell_type": "code",
      "source": [
        "# Use cell magic command to help understand what the rdd.flatMap function is doing in the next cell.\n",
        "# Insert a text/markdown cell and explain in your own words."
      ],
      "metadata": {
        "id": "O6M0MIGmEVrq"
      },
      "execution_count": null,
      "outputs": []
    },
    {
      "cell_type": "code",
      "source": [
        "# Initialize a word counter by creating a tuple with word and cound of 1\n",
        "words = rdd.flatMap(lambda lines: lines.split(' ')) \\\n",
        "                    .map(lambda word: (word, 1))\n",
        "\n",
        "for w in words.collect():\n",
        "    print(w)"
      ],
      "metadata": {
        "id": "BdkOE8Pzh4sV"
      },
      "execution_count": null,
      "outputs": []
    },
    {
      "cell_type": "code",
      "source": [
        "# a. count the occurence of each word"
      ],
      "metadata": {
        "id": "hFu72I93_8CS"
      },
      "execution_count": null,
      "outputs": []
    },
    {
      "cell_type": "code",
      "source": [
        "# b. a common first step in text analysis, change all capital letters to lower case"
      ],
      "metadata": {
        "id": "dYAIt8A8AGGn"
      },
      "execution_count": null,
      "outputs": []
    },
    {
      "cell_type": "code",
      "source": [
        "# c. eliminate the stop words."
      ],
      "metadata": {
        "id": "CNr23N3MAVla"
      },
      "execution_count": null,
      "outputs": []
    },
    {
      "cell_type": "code",
      "source": [
        "# d. sort in alphabetical order"
      ],
      "metadata": {
        "id": "HjOm9cn7B5lI"
      },
      "execution_count": null,
      "outputs": []
    },
    {
      "cell_type": "code",
      "source": [
        "# e. sort descending by word frequency"
      ],
      "metadata": {
        "id": "WXrqvUwuCD5E"
      },
      "execution_count": null,
      "outputs": []
    },
    {
      "cell_type": "code",
      "source": [
        "# f. remove punctuations and blank spaces"
      ],
      "metadata": {
        "id": "AJr1n25lCN2B"
      },
      "execution_count": null,
      "outputs": []
    },
    {
      "cell_type": "markdown",
      "source": [
        "# 2. What does the following cell block do?\n",
        "Comment the code below line by line after the provided hash-tag. You should be able to explain each line while respecting the pep8 style guide of 79 characters or less per line!"
      ],
      "metadata": {
        "id": "81MYw5zXCv8X"
      }
    },
    {
      "cell_type": "code",
      "source": [
        " # Create an RDD of tuples (name, age)\n",
        "dataRDD = sc.parallelize([(\"Brooke\", 20), (\"Denny\", 31), (\"Jules\", 30),\n",
        "(\"TD\", 35), (\"Brooke\", 25)])\n",
        "\n",
        "# Try to undestand what this code does (line by line)\n",
        "agesRDD = (dataRDD\n",
        "  #\n",
        "  .map(lambda x: (x[0], (x[1], 1)))\n",
        "  #\n",
        "  .reduceByKey(lambda x, y: (x[0] + y[0], x[1] + y[1]))\n",
        "  #\n",
        "  .map(lambda x: (x[0], x[1][0]/x[1][1])))"
      ],
      "metadata": {
        "id": "FrrNF7seCaZ2"
      },
      "execution_count": null,
      "outputs": []
    },
    {
      "cell_type": "markdown",
      "source": [
        "# Where to go from here\n",
        "\n",
        "Further exploration for students who complete the lab before the end of the session or want to go further.\n",
        "\n",
        "- perform eda on the original french version of the [book](https://www.gutenberg.org/ebooks/46541.txt.utf-8) and compare the two\n",
        "- recomplete the exercises using a the docker install\n",
        "- install java and spark directly onto host machine and either rexplore this notebook or perform eda on other data sets\n",
        "- write a simple python timer function for seeing how quickly your rdd runs as written. change the order of the steps in order to make the rdd run as optimally as possible"
      ],
      "metadata": {
        "id": "Rzas64DSRt_a"
      }
    },
    {
      "cell_type": "code",
      "source": [],
      "metadata": {
        "id": "XH329uSEU0s_"
      },
      "execution_count": null,
      "outputs": []
    }
  ],
  "metadata": {
    "colab": {
      "provenance": []
    },
    "kernelspec": {
      "display_name": "Python 3",
      "name": "python3"
    },
    "language_info": {
      "name": "python"
    }
  },
  "nbformat": 4,
  "nbformat_minor": 0
}